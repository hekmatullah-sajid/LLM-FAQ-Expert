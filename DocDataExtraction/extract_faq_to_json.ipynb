{
 "cells": [
  {
   "cell_type": "markdown",
   "id": "7fabebef-17c4-4e85-bc4d-5783d2082190",
   "metadata": {},
   "source": [
    "# Script Overview\n",
    "\n",
    "This script reads the FAQ documents of DataTalksClub's courses, which are open and publicly available,\n",
    "and converts the documents to JSON format."
   ]
  },
  {
   "cell_type": "code",
   "execution_count": 1,
   "id": "09ab1994-896a-4955-b4dc-ec4f353d852e",
   "metadata": {},
   "outputs": [],
   "source": [
    "import io\n",
    "import requests\n",
    "import docx\n",
    "import json"
   ]
  },
  {
   "cell_type": "code",
   "execution_count": 2,
   "id": "ab310022-781b-42e7-a572-b11f3d83a7d8",
   "metadata": {},
   "outputs": [],
   "source": [
    "def clean_line(line):\n",
    "    \"\"\"Strip whitespace and BOM (Byte Order Mark) characters from the line.\"\"\"\n",
    "    line = line.strip()\n",
    "    line = line.strip('\\uFEFF')\n",
    "    return line"
   ]
  },
  {
   "cell_type": "code",
   "execution_count": 3,
   "id": "ac6e40e4-bc27-448a-81d7-d30cd0d11e3d",
   "metadata": {},
   "outputs": [],
   "source": [
    "def read_faq(file_id):\n",
    "    \"\"\"Read FAQ document from Google Docs and parse the questions and answers.\n",
    "\n",
    "    Args:\n",
    "        file_id (str): The Google Docs file ID.\n",
    "\n",
    "    Returns:\n",
    "        list: A list of dictionaries containing 'section', 'question', and 'text' keys.\n",
    "    \"\"\"\n",
    "    url = f'https://docs.google.com/document/d/{file_id}/export?format=docx'\n",
    "    \n",
    "    # Download the document\n",
    "    response = requests.get(url)\n",
    "    response.raise_for_status()\n",
    "    \n",
    "    # Load the document content\n",
    "    with io.BytesIO(response.content) as f_in:\n",
    "        doc = docx.Document(f_in)\n",
    "\n",
    "    questions = []\n",
    "\n",
    "    question_heading_style = 'heading 2'\n",
    "    section_heading_style = 'heading 1'\n",
    "    \n",
    "    section_title = ''\n",
    "    question_title = ''\n",
    "    answer_text_so_far = ''\n",
    "    \n",
    "    # Iterate through each paragraph in the document\n",
    "    for p in doc.paragraphs:\n",
    "        style = p.style.name.lower()  # Get the style of the paragraph\n",
    "        p_text = clean_line(p.text)  # Clean the paragraph text\n",
    "        \n",
    "        if not p_text:\n",
    "            continue  # Skip empty lines\n",
    "\n",
    "        # Detect section headings\n",
    "        if style == section_heading_style:\n",
    "            section_title = p_text\n",
    "            continue\n",
    "\n",
    "        # Detect question headings\n",
    "        if style == question_heading_style:\n",
    "            # Save the previous question and answer if they exist\n",
    "            if answer_text_so_far.strip() and section_title and question_title:\n",
    "                questions.append({\n",
    "                    'text': answer_text_so_far.strip(),\n",
    "                    'section': section_title,\n",
    "                    'question': question_title,\n",
    "                })\n",
    "                answer_text_so_far = ''  # Reset for the next question\n",
    "\n",
    "            question_title = p_text\n",
    "            continue\n",
    "\n",
    "        # Accumulate the answer text\n",
    "        answer_text_so_far += '\\n' + p_text\n",
    "\n",
    "    # Add the last question and answer to the list\n",
    "    if answer_text_so_far.strip() and section_title and question_title:\n",
    "        questions.append({\n",
    "            'text': answer_text_so_far.strip(),\n",
    "            'section': section_title,\n",
    "            'question': question_title,\n",
    "        })\n",
    "\n",
    "    return questions\n"
   ]
  },
  {
   "cell_type": "code",
   "execution_count": 4,
   "id": "8ac2e2b8-7de3-44e4-94f4-853fe13a998c",
   "metadata": {},
   "outputs": [],
   "source": [
    "# Dictionary mapping course names to their corresponding Google Docs file IDs\n",
    "faq_documents = {\n",
    "    'data-engineering-zoomcamp': '19bnYs80DwuUimHM65UV3sylsCn2j1vziPOwzBwQrebw',\n",
    "    'machine-learning-zoomcamp': '1LpPanc33QJJ6BSsyxVg-pWNMplal84TdZtq10naIhD8',\n",
    "    'mlops-zoomcamp': '12TlBfhIiKtyBv8RnsoJR6F72bkPDGEvPOItJIxaEzE0',\n",
    "}"
   ]
  },
  {
   "cell_type": "code",
   "execution_count": 5,
   "id": "47aab1e5-7d60-4e07-a98d-bb888b0aab7a",
   "metadata": {},
   "outputs": [
    {
     "name": "stdout",
     "output_type": "stream",
     "text": [
      "data-engineering-zoomcamp\n",
      "machine-learning-zoomcamp\n",
      "mlops-zoomcamp\n"
     ]
    }
   ],
   "source": [
    "documents = []\n",
    "\n",
    "# Iterate over each course and its corresponding Google Docs file ID in the faq_documents dictionary\n",
    "for course, file_id in faq_documents.items():\n",
    "    print(course)  # Print the course name for debugging/monitoring purposes\n",
    "    course_documents = read_faq(file_id)  # Read and parse the FAQ document for the course\n",
    "    documents.append({'course': course, 'documents': course_documents})  # Append the parsed documents to the list"
   ]
  },
  {
   "cell_type": "code",
   "execution_count": 6,
   "id": "062c0915-acda-4cee-a2df-0b9df52ab504",
   "metadata": {},
   "outputs": [],
   "source": [
    "# Write the list of documents to a JSON file\n",
    "with open('documents.json', 'wt') as f_out:\n",
    "    json.dump(documents, f_out, indent=2)"
   ]
  },
  {
   "cell_type": "code",
   "execution_count": 7,
   "id": "02919653-e761-4f18-a4cd-8e7eba911c55",
   "metadata": {},
   "outputs": [
    {
     "name": "stdout",
     "output_type": "stream",
     "text": [
      "[\n",
      "  {\n",
      "    \"course\": \"data-engineering-zoomcamp\",\n",
      "    \"documents\": [\n",
      "      {\n",
      "        \"text\": \"The purpose of this document is to capture frequently asked technical questions\\nThe exact day and hour of the course will be 15th Jan 2024 at 17h00. The course will start with the first  \\u201cOffice Hours'' live.1\\nSubscribe to course public Google Calendar (it works from Desktop only).\\nRegister before the course starts using this link.\\nJoin the course Telegram channel with announcements.\\nDon\\u2019t forget to register in DataTalks.Club's Slack and join the channel.\",\n",
      "        \"section\": \"General course-related questions\",\n",
      "        \"question\": \"Course - When will the course start? could not translate host name\"\n",
      "      },\n",
      "      {\n"
     ]
    }
   ],
   "source": [
    "!head documents.json"
   ]
  },
  {
   "cell_type": "code",
   "execution_count": null,
   "id": "41af96b7-a69c-4c6e-8167-c1be082f0272",
   "metadata": {},
   "outputs": [],
   "source": []
  }
 ],
 "metadata": {
  "kernelspec": {
   "display_name": "Python 3 (ipykernel)",
   "language": "python",
   "name": "python3"
  },
  "language_info": {
   "codemirror_mode": {
    "name": "ipython",
    "version": 3
   },
   "file_extension": ".py",
   "mimetype": "text/x-python",
   "name": "python",
   "nbconvert_exporter": "python",
   "pygments_lexer": "ipython3",
   "version": "3.10.13"
  }
 },
 "nbformat": 4,
 "nbformat_minor": 5
}
